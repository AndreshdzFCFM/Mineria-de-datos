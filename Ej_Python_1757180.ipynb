{
 "cells": [
  {
   "cell_type": "code",
   "execution_count": 4,
   "metadata": {},
   "outputs": [
    {
     "name": "stdout",
     "output_type": "stream",
     "text": [
      "mi nombre es andres hernandez y esta es mi matricula: 1757180\n"
     ]
    }
   ],
   "source": [
    "#Ejercicios de python basicos\n",
    "#Ejercicio 1: Realiza una variable con tu matricula y realiza una secuencia de imprimir con tu nombre y tu matricula concatenados.\n",
    "matricula =1757180 #Asignamos el valor de la matricula\n",
    "print (\"mi nombre es andres hernandez y esta es mi matricula:\", matricula) #imprimimos"
   ]
  },
  {
   "cell_type": "code",
   "execution_count": null,
   "metadata": {},
   "outputs": [],
   "source": [
    "#Ejercicio 2: Pidiendo el input del usuario pide dos números y crea una pequeña calculadora con los operadores basicos de suma,resta, multiplicación, división y exponente.\n",
    "num1 = int(input(\"Introduce un número:\"))\n",
    "num2 = int(input(\"Introduce otro número:\"))\n",
    "operador = str(input(\"Ingrese el tipo de operación de desee realizar (suma,res,mult,div,exp):\"))#guardamos el tipo de operación que realizaremos\n",
    "resultado = 0\n",
    "if operador == \"suma\":\n",
    "    resultado = num1 + num2\n",
    "elif operador == \"res\":\n",
    "        resultado = num1 - num2\n",
    "elif operador == \"mult\":\n",
    "            resultado = num1 * num2\n",
    "elif operador == \"div\":\n",
    "                resultado = num1 / num2\n",
    "elif operador == \"exp\":\n",
    "                    resultado = num1 ** num2\n",
    "else: \n",
    "    print(\"Favor de escribir el operador correctamente.\")\n",
    "print(\"El resultado es:\", resultado)"
   ]
  },
  {
   "cell_type": "code",
   "execution_count": null,
   "metadata": {},
   "outputs": [],
   "source": [
    "#Ejercicio 3: Con loop while o for, realiza una lista de 10 números múltiplos de 3, y después realiza una función de loop que sume todos los números dentro del arreglo.\n",
    "total = [] #creamos el arreglo\n",
    "i = 0\n",
    "while i < 10:\n",
    "    trinum = int(input(\"Ingrese un número múltiplo de tres:\")) #obtenemos los números\n",
    "    prueba = trinum / 3\n",
    "    verificacion = (prueba).is_integer() #validamos que el número sea múltiplo del 3, si la división entre 3 regresa un entero\n",
    "    if verificacion == 1:\n",
    "        total.append(trinum) #añadimos el número al arreglo\n",
    "        i = i + 1   \n",
    "    else:\n",
    "        print(\"Verifique que su número es múltiplo de 3.\") #en caso de no ser múltiplo le pedimos otro número\n",
    "i=0\n",
    "sumtotal = 0\n",
    "while i < 10:\n",
    "    sumtotal = total[i] + sumtotal #sumamos los números del arreglo\n",
    "    i = i + 1\n",
    "print(\"La suma total del arreglo es:\",sumtotal)"
   ]
  },
  {
   "cell_type": "code",
   "execution_count": 43,
   "metadata": {},
   "outputs": [
    {
     "name": "stdout",
     "output_type": "stream",
     "text": [
      "ingrese un numero: 90\n",
      "ingrese el tipo de prueba que desee realizar sobre el numero (primo o par):primo\n",
      "90 no es primo\n"
     ]
    }
   ],
   "source": [
    "#Ejercicio 4: con una función de if else, revisar si un número es par o es impar. con una función de if else, revisar si un número es primo o no\n",
    "prueba = int(input(\"ingrese un numero: \"))\n",
    "PoP = str(input(\"ingrese el tipo de prueba que desee realizar sobre el numero (primo o par):\"))\n",
    "if PoP == \"primo\":\n",
    "    if prueba > 1 :\n",
    "        for i in range (2,prueba): #https://www.geeksforgeeks.org/python-program-to-check-whether-a-number-is-prime-or-not/\n",
    "            if (prueba % i) == 0 : \n",
    "                print (prueba, \"no es primo\")\n",
    "                break\n",
    "        else:\n",
    "                print ( prueba, \"es primo\")\n",
    "    else: \n",
    "            print ( prueba, \"no es primo\")\n",
    "else: \n",
    "    if ( prueba % 2 ) == 0 :\n",
    "        print (prueba, \"es par\")\n",
    "    else:\n",
    "        print (prueba, \"es impar\")\n",
    "    "
   ]
  },
  {
   "cell_type": "code",
   "execution_count": 52,
   "metadata": {},
   "outputs": [
    {
     "name": "stdout",
     "output_type": "stream",
     "text": [
      "\"\n",
      "    ¿que quieres hacer?\n",
      "    1) sumar\n",
      "    2) restar\n",
      "    3) multiplicar\n",
      "    4) dividir\n",
      "    5) elevar\n",
      "    6) salir\n",
      "     \n",
      "introduce una opcion: 1\n",
      "ingresa el primer numero: 5\n",
      "ingresa el segundo numero: 5\n",
      "el resultado de sumar5y5es:10\n",
      "\"\n",
      "    ¿que quieres hacer?\n",
      "    1) sumar\n",
      "    2) restar\n",
      "    3) multiplicar\n",
      "    4) dividir\n",
      "    5) elevar\n",
      "    6) salir\n",
      "     \n",
      "introduce una opcion: 6\n",
      "adios\n"
     ]
    }
   ],
   "source": [
    "#Ejercicio 5: Utilizando diferentes clases en python, crea una calculadora con los operadores básicos de suma, resta, multiplicación, división y exponente\n",
    "class calculadora: #se realizan operaciones entre los numeros que se vayan a elegir y se imprime texto\n",
    "    def sumar(self, x,y):\n",
    "        print ('el resultado de sumar' +str(x) + 'y' +str(y)+ 'es:' +str((x+y)) )\n",
    "    def restar(self,x,y):\n",
    "        print('el resultado de restar' +str(x) + 'y'+ str(y)+'es:'+str((x-y)) )\n",
    "    def multiplicar(self,x,y):\n",
    "        print('el resultado de multiplicar'+str(x)+ 'y' + str(y) +'es:' +str((x*y)))\n",
    "    def dividir(self,x,y):\n",
    "        print('el resultado de dividir' +str(x)+'y'+ str(y)+'es:'+str((x/y)))\n",
    "    def exponente (self,x,y):\n",
    "        print('el resultado de elevar a potencia' +str(x) +'y'+ str(y) +'es:'+ str((x^y)))\n",
    "        \n",
    "c= calculadora()\n",
    "def menu (): #ofrecemos un menu al usuario para elegir\n",
    "    print(\"\"\"\"\n",
    "    ¿que quieres hacer?\n",
    "    1) sumar\n",
    "    2) restar\n",
    "    3) multiplicar\n",
    "    4) dividir\n",
    "    5) elevar\n",
    "    6) salir\n",
    "     \"\"\")\n",
    "    return int(input(\"introduce una opcion: \"))\n",
    "          \n",
    "while (True):\n",
    "    opcion=menu()\n",
    "    if(opcion==6): #salir del programa\n",
    "        print(\"adios\")\n",
    "        break\n",
    "    else: \n",
    "          num1= int(input('ingresa el primer numero: '))\n",
    "          num2= int( input('ingresa el segundo numero: '))\n",
    "          \n",
    "          if(opcion==1):\n",
    "            c.sumar(num1,num2)\n",
    "          elif(opcion==2):\n",
    "            c.restar(num1,num2)\n",
    "          elif(opcion==3):\n",
    "            c.multiplicar(num1,num2)\n",
    "          elif(opcion==4):\n",
    "            c.dividir(num1.num2)\n",
    "          elif(opcion==5):\n",
    "            c.exponente(num1,num2)\n",
    "          else:\n",
    "             print(\"ingrese una opcion valida: \")\n",
    "             "
   ]
  },
  {
   "cell_type": "markdown",
   "metadata": {},
   "source": [
    "# ejercicios con estructuras basicas de python"
   ]
  },
  {
   "cell_type": "code",
   "execution_count": 57,
   "metadata": {},
   "outputs": [
    {
     "name": "stdout",
     "output_type": "stream",
     "text": [
      "1.19 es tipo:  <class 'float'>\n",
      "5 es tipo:  <class 'int'>\n",
      "False es tipo:  <class 'bool'>\n",
      "(7+3j) es tipo:  <class 'complex'> \n",
      "\n",
      "El primer valor de la tupla es: 1 y el último es: 3 \n",
      "\n",
      "(1, 2, 3, 'fcfm', 'fcq', 'fic')\n"
     ]
    },
    {
     "data": {
      "text/plain": [
       "False"
      ]
     },
     "execution_count": 57,
     "metadata": {},
     "output_type": "execute_result"
    }
   ],
   "source": [
    "#Tuplas\n",
    "#Crear una variable flotante, integer, boleana y compleja e imprimir el tipo de variable que es\n",
    "vflo = float (1.19)\n",
    "print(vflo, \"es tipo: \",type(vflo))\n",
    "vint = int(5)\n",
    "print(vint, \"es tipo: \", type(vint))\n",
    "vbol = bool (0)\n",
    "print(vbol, \"es tipo: \", type(vbol))\n",
    "vcom = complex (7,3) #https://www.geeksforgeeks.org/complex-numbers-in-python-set-1-introduction/ \n",
    "print(vcom, \"es tipo: \",type(vcom),\"\\n\")\n",
    "\n",
    "#crea una tupla con valores enteros imprimir el primer y ultimo valor \n",
    "ejtupla = (1,2,3)\n",
    "print(\"El primer valor de la tupla es:\",ejtupla[0], \"y el último es:\",ejtupla[2],\"\\n\")\n",
    "\n",
    "#añadir 3 valores de string a la tupla\n",
    "aux = list(ejtupla)\n",
    "aux.append(\"fcfm\")\n",
    "aux.append(\"fcq\")\n",
    "aux.append(\"fic\")\n",
    "ejtupla = tuple (aux)\n",
    "print(ejtupla)\n",
    "\n",
    "#verificar si una variable existe dentro de la tupla\n",
    "lisvar = []\n",
    "lisvar.extend((vflo,vint,vbol,vcom)) \n",
    "any(t in ejtupla for t in lisvar)\n"
   ]
  },
  {
   "cell_type": "code",
   "execution_count": 58,
   "metadata": {},
   "outputs": [
    {
     "name": "stdout",
     "output_type": "stream",
     "text": [
      "lista:\n",
      " [9, 45, 93, 38, 8, 73, 59, 26, 38, 58, 14, 52, 73, 30, 86, 70, 72, 53, 94, 17, 24, 96, 87, 8, 16, 4, 14, 99, 1, 72, 17, 92, 77, 50, 99, 23, 47, 16, 12, 44] \n",
      "\n",
      "lista par:\n",
      " [93, 93, 59, 59, 59, 59, 59, 73, 73, 73, 73, 53, 17, 17, 87, 87, 87, 87, 1, 17, 77, 47, 47, 47] \n",
      "\n",
      "lista impar:\n",
      " [9, 45, 93, 73, 59, 73, 53, 17, 87, 99, 1, 17, 77, 99, 23, 47] \n",
      "\n",
      "la longitud de la lista de los pares es:  24 y de los imapres es:  16\n",
      "\n",
      "descendente: \n",
      " [93, 93, 87, 87, 87, 87, 77, 73, 73, 73, 73, 59, 59, 59, 59, 59, 53, 47, 47, 47, 17, 17, 17, 1] \n",
      "ascendente: \n",
      " [1, 9, 17, 17, 23, 45, 47, 53, 59, 73, 73, 77, 87, 93, 99, 99]\n",
      "\n",
      "4 funciones: \n",
      " ['s', 'o', 'i', 'd', 'a', 3, 44, 12, 16, 47, 23, 99, 50, 77, 92, 17, 72, 1, 99, 14, 4, 16, 8, 87, 96, 24, 17, 94, 53, 72, 70, 86, 30, 73, 52, 14, 58, 38, 26, 59, 73, 8, 38, 93, 45, 9]\n"
     ]
    }
   ],
   "source": [
    "#Listas\n",
    "#Crear una lista con 40 elementos aleatorios enteros\n",
    "import random as r \n",
    "lisrand = []\n",
    "i=0\n",
    "while i < 40:\n",
    "    num = r.randint (0,100)\n",
    "    lisrand.append((num))\n",
    "    i = i+1\n",
    "print(\"lista:\\n\",lisrand,\"\\n\")\n",
    "\n",
    "#Con una función (def) crear dos listas nuevas a partir de la lista creada por números aleatorios,en la cuál en una esten los elementos pares, y en la otra los elementos impares.\n",
    "lispar = []\n",
    "lisimpar = []\n",
    "def parimpar(lisrand):\n",
    "    i=0\n",
    "    while i<40:\n",
    "        if((lisrand[i]%2) == 0):\n",
    "            aux == lisrand[i]\n",
    "            lispar.append((aux))\n",
    "            i= i+1\n",
    "        else:\n",
    "            aux=lisrand[i]\n",
    "            lisimpar.append((aux))\n",
    "            i = i+1\n",
    "    print(\"lista par:\\n\",lispar, \"\\n\")\n",
    "    print(\"lista impar:\\n\",lisimpar, \"\\n\")\n",
    "parimpar(lisrand)\n",
    "\n",
    "#Crear dos variables con la longitud de ambas listas nuevas e imprimir las variables\n",
    "longpar= len(lispar)\n",
    "longimp= len(lisimpar)\n",
    "print(\"la longitud de la lista de los pares es: \", longpar, \"y de los imapres es: \", longimp)\n",
    "\n",
    "#Ordenar los elementos de la lista par de mayor a menor, y los de la lista impar de menor a mayor\n",
    "ascpar= sorted(lispar,reverse=True)\n",
    "descimpar= sorted(lisimpar)\n",
    "\n",
    "print(\"\\ndescendente: \\n\", ascpar, \"\\nascendente: \\n\", descimpar)\n",
    "\n",
    "#Utilizar al menos cuatro de las funciones de listas en python en la lista original de 40 elementos\n",
    "lisrandnew= lisrand\n",
    "lisrandnew.append (3)\n",
    "lisrandnew.extend (\"adios\")\n",
    "lisrandnew.reverse ()\n",
    "print(\"\\n4 funciones: \\n\", lisrandnew)\n",
    "\n",
    "           "
   ]
  },
  {
   "cell_type": "code",
   "execution_count": 59,
   "metadata": {},
   "outputs": [
    {
     "name": "stdout",
     "output_type": "stream",
     "text": [
      "diccionario:\n",
      " {'andres': 22, 'andrea': 22, 'fernando': 21, 'maria jose': 21, 'sergio': 21, 'omar': 23}\n",
      "\n",
      "valores de menor a mayor:\n",
      " [21, 21, 21, 22, 22, 23] \n",
      "\n",
      "nombres: \n",
      "andres\n",
      "andrea\n",
      "fernando\n",
      "maria jose\n",
      "sergio\n",
      "omar\n",
      "\n",
      "nuevo diccionario:\n",
      " {'andres': 22, 'andrea': 22, 'fernando': 21, 'maria jose': 21, 'sergio': 21, 'omar': 23, 'jose manuel': '21', 'antonio': '21'}\n"
     ]
    }
   ],
   "source": [
    "#Diccionarios\n",
    "#Crear un diccionario de 6 personas que conozcas con su primer nombre y su edad\n",
    "dicc1= {'andres':22 , 'andrea':22, 'fernando':21, 'maria jose':21, 'sergio':21, 'omar':23}\n",
    "print(\"diccionario:\\n\",dicc1)\n",
    "\n",
    "#Crear una lista con los valores de la edad y reacomodar la lista de menor a mayor valor\n",
    "lisdicc = dicc1.values()\n",
    "lisdicc = sorted(lisdicc)\n",
    "print(\"\\nvalores de menor a mayor:\\n\", lisdicc, \"\\n\")\n",
    "\n",
    "#Usando el diccionario y un loop, imprimir solo los nombres\n",
    "i= 1\n",
    "print(\"nombres: \")\n",
    "for i in dicc1:\n",
    "    print(i)\n",
    "    \n",
    "#Añadir dos personas nuevas a tu diccionario, incluyendo edad\n",
    "dicc1[\"jose manuel\"] = '21'\n",
    "dicc1[\"antonio\"] = '21'\n",
    "print(\"\\nnuevo diccionario:\\n\", dicc1)\n",
    "\n"
   ]
  },
  {
   "cell_type": "code",
   "execution_count": null,
   "metadata": {},
   "outputs": [],
   "source": [
    "#Sets\n",
    "#Crea un set con 100 numeros aleatorios enteros del 1 al 25\n",
    "import random as r\n",
    "set1 = set()\n",
    "i=0\n",
    "while i<100:\n",
    "    set1.add(r.randint(1,25))\n",
    "    i= i+1\n",
    "print(\"set aleatorio: \\n\", set1)\n",
    "\n",
    "#Comprueba la longitud de tu set.\n",
    "longset = len(set1)\n",
    "print(\"\\nla longitud del set es:\\n\" , longset)\n",
    "\n",
    "#Crea una lista de 5 numeros aleatorios del 1 al 10 y comprueba si cada valor aparece en el set inicial\n",
    "lista5= list()\n",
    "i = 0\n",
    "while i< 10:\n",
    "    num = r.randint(1,10)\n",
    "    lista5.append(num)\n",
    "    i = i+1\n",
    "i= 0\n",
    "while i< 10:\n",
    "    comparador = lista5[i] in set1\n",
    "    print(\"\\nel numero: \",lista5[i],\",¿esta en el set inicial?:\\n\",comparador)\n",
    "    i = i+1\n",
    "\n",
    "    "
   ]
  },
  {
   "cell_type": "code",
   "execution_count": null,
   "metadata": {},
   "outputs": [],
   "source": []
  },
  {
   "cell_type": "code",
   "execution_count": null,
   "metadata": {},
   "outputs": [],
   "source": []
  }
 ],
 "metadata": {
  "kernelspec": {
   "display_name": "Python 3",
   "language": "python",
   "name": "python3"
  },
  "language_info": {
   "codemirror_mode": {
    "name": "ipython",
    "version": 3
   },
   "file_extension": ".py",
   "mimetype": "text/x-python",
   "name": "python",
   "nbconvert_exporter": "python",
   "pygments_lexer": "ipython3",
   "version": "3.8.5"
  }
 },
 "nbformat": 4,
 "nbformat_minor": 4
}
